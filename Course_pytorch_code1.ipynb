{
  "cells": [
    {
      "cell_type": "markdown",
      "metadata": {
        "id": "uLih8ytK6J6g"
      },
      "source": [
        "Pytorch Fundamentals"
      ]
    },
    {
      "cell_type": "code",
      "execution_count": 1,
      "metadata": {
        "colab": {
          "base_uri": "https://localhost:8080/"
        },
        "id": "Ge119IND6VYN",
        "outputId": "e8b341bf-b640-40d1-ce4a-2ca5b5ff0e1e"
      },
      "outputs": [
        {
          "output_type": "stream",
          "name": "stdout",
          "text": [
            "I am excited to learn pytorch\n"
          ]
        }
      ],
      "source": [
        "print(\"I am excited to learn pytorch\")"
      ]
    },
    {
      "cell_type": "code",
      "execution_count": 2,
      "metadata": {
        "colab": {
          "base_uri": "https://localhost:8080/"
        },
        "id": "g76BlcDz5_ih",
        "outputId": "7ffdcf7d-387b-4c56-fc2c-522e8b6ab8c3"
      },
      "outputs": [
        {
          "output_type": "stream",
          "name": "stdout",
          "text": [
            "Wed Oct 18 17:46:32 2023       \n",
            "+-----------------------------------------------------------------------------+\n",
            "| NVIDIA-SMI 525.105.17   Driver Version: 525.105.17   CUDA Version: 12.0     |\n",
            "|-------------------------------+----------------------+----------------------+\n",
            "| GPU  Name        Persistence-M| Bus-Id        Disp.A | Volatile Uncorr. ECC |\n",
            "| Fan  Temp  Perf  Pwr:Usage/Cap|         Memory-Usage | GPU-Util  Compute M. |\n",
            "|                               |                      |               MIG M. |\n",
            "|===============================+======================+======================|\n",
            "|   0  Tesla T4            Off  | 00000000:00:04.0 Off |                    0 |\n",
            "| N/A   47C    P8     9W /  70W |      0MiB / 15360MiB |      0%      Default |\n",
            "|                               |                      |                  N/A |\n",
            "+-------------------------------+----------------------+----------------------+\n",
            "                                                                               \n",
            "+-----------------------------------------------------------------------------+\n",
            "| Processes:                                                                  |\n",
            "|  GPU   GI   CI        PID   Type   Process name                  GPU Memory |\n",
            "|        ID   ID                                                   Usage      |\n",
            "|=============================================================================|\n",
            "|  No running processes found                                                 |\n",
            "+-----------------------------------------------------------------------------+\n"
          ]
        }
      ],
      "source": [
        "!nvidia-smi"
      ]
    },
    {
      "cell_type": "code",
      "execution_count": 3,
      "metadata": {
        "colab": {
          "base_uri": "https://localhost:8080/"
        },
        "id": "_EscPzPS6GR-",
        "outputId": "b9ec256d-b20a-4753-f45d-20a735f5e398"
      },
      "outputs": [
        {
          "output_type": "stream",
          "name": "stdout",
          "text": [
            "2.0.1+cu118\n"
          ]
        }
      ],
      "source": [
        "import torch\n",
        "import pandas as pd\n",
        "import numpy as np\n",
        "print(torch.__version__)"
      ]
    },
    {
      "cell_type": "markdown",
      "metadata": {
        "id": "pgo6yQKY71Ly"
      },
      "source": [
        "#introduction to tensors\n",
        "#Creating tensors"
      ]
    },
    {
      "cell_type": "code",
      "execution_count": 4,
      "metadata": {
        "colab": {
          "base_uri": "https://localhost:8080/"
        },
        "id": "JcwvFYij8Jl6",
        "outputId": "dd7b63fc-a8ef-4f94-f677-e03b471a3fbf"
      },
      "outputs": [
        {
          "output_type": "execute_result",
          "data": {
            "text/plain": [
              "tensor(7)"
            ]
          },
          "metadata": {},
          "execution_count": 4
        }
      ],
      "source": [
        "#scaler\n",
        "scaler = torch.tensor(7)\n",
        "scaler"
      ]
    },
    {
      "cell_type": "code",
      "execution_count": 5,
      "metadata": {
        "colab": {
          "base_uri": "https://localhost:8080/"
        },
        "id": "UPW8heOM8V_j",
        "outputId": "0ab19b9e-fc5b-4951-baaa-8160a0860e03"
      },
      "outputs": [
        {
          "output_type": "execute_result",
          "data": {
            "text/plain": [
              "0"
            ]
          },
          "metadata": {},
          "execution_count": 5
        }
      ],
      "source": [
        "scaler.ndim"
      ]
    },
    {
      "cell_type": "code",
      "execution_count": 6,
      "metadata": {
        "colab": {
          "base_uri": "https://localhost:8080/"
        },
        "id": "7aiESiyt87Oy",
        "outputId": "856f89c4-d06b-4d34-b7d8-ca6d506682ff"
      },
      "outputs": [
        {
          "output_type": "execute_result",
          "data": {
            "text/plain": [
              "7"
            ]
          },
          "metadata": {},
          "execution_count": 6
        }
      ],
      "source": [
        "scaler.item()"
      ]
    },
    {
      "cell_type": "code",
      "execution_count": 7,
      "metadata": {
        "colab": {
          "base_uri": "https://localhost:8080/"
        },
        "id": "XQV6BOFt8_DE",
        "outputId": "c970a6fa-1016-4a46-9382-a27487ddfb47"
      },
      "outputs": [
        {
          "output_type": "execute_result",
          "data": {
            "text/plain": [
              "tensor([7, 7])"
            ]
          },
          "metadata": {},
          "execution_count": 7
        }
      ],
      "source": [
        "#vector\n",
        "vector = torch.tensor([7,7])\n",
        "vector"
      ]
    },
    {
      "cell_type": "code",
      "execution_count": 8,
      "metadata": {
        "colab": {
          "base_uri": "https://localhost:8080/"
        },
        "id": "Yfpc9SEB9RMr",
        "outputId": "1e76a8d3-1df6-4eab-e378-6064f74dc66a"
      },
      "outputs": [
        {
          "output_type": "execute_result",
          "data": {
            "text/plain": [
              "torch.Size([2])"
            ]
          },
          "metadata": {},
          "execution_count": 8
        }
      ],
      "source": [
        "vector.ndim\n",
        "vector.shape"
      ]
    },
    {
      "cell_type": "code",
      "execution_count": 9,
      "metadata": {
        "id": "sJU9hQQM9aLY"
      },
      "outputs": [],
      "source": [
        "#Matrix\n",
        "MATRIX = torch.tensor([[7,8],\n",
        "                      [9,10]])"
      ]
    },
    {
      "cell_type": "code",
      "execution_count": 10,
      "metadata": {
        "colab": {
          "base_uri": "https://localhost:8080/"
        },
        "id": "vTyHEgCQ93D1",
        "outputId": "e5a713c8-7cff-4455-9d11-5df3e3b2a09a"
      },
      "outputs": [
        {
          "output_type": "execute_result",
          "data": {
            "text/plain": [
              "tensor([[ 7,  8],\n",
              "        [ 9, 10]])"
            ]
          },
          "metadata": {},
          "execution_count": 10
        }
      ],
      "source": [
        "MATRIX"
      ]
    },
    {
      "cell_type": "code",
      "execution_count": 11,
      "metadata": {
        "colab": {
          "base_uri": "https://localhost:8080/"
        },
        "id": "PqDAxcSM929T",
        "outputId": "741a67e9-09ef-44ce-cd50-048eb8f64b9b"
      },
      "outputs": [
        {
          "output_type": "execute_result",
          "data": {
            "text/plain": [
              "2"
            ]
          },
          "metadata": {},
          "execution_count": 11
        }
      ],
      "source": [
        "MATRIX.ndim"
      ]
    },
    {
      "cell_type": "code",
      "execution_count": 12,
      "metadata": {
        "colab": {
          "base_uri": "https://localhost:8080/"
        },
        "id": "cW5qLaE_98qD",
        "outputId": "476a8168-e851-411d-bd49-1f1c841937d5"
      },
      "outputs": [
        {
          "output_type": "execute_result",
          "data": {
            "text/plain": [
              "tensor([7, 8])"
            ]
          },
          "metadata": {},
          "execution_count": 12
        }
      ],
      "source": [
        "MATRIX[0]"
      ]
    },
    {
      "cell_type": "code",
      "execution_count": 13,
      "metadata": {
        "id": "oqH8qyE--N7U"
      },
      "outputs": [],
      "source": [
        "#TENSOR\n",
        "TENSOR = torch.tensor([[[1,2,3],\n",
        "                        [3,4,5],\n",
        "                        [6,7,8]]])"
      ]
    },
    {
      "cell_type": "code",
      "execution_count": 14,
      "metadata": {
        "colab": {
          "base_uri": "https://localhost:8080/"
        },
        "id": "6e2O92Ic-d0Z",
        "outputId": "79b24c7c-62ac-4285-9530-ced878c7ff52"
      },
      "outputs": [
        {
          "output_type": "execute_result",
          "data": {
            "text/plain": [
              "tensor([[[1, 2, 3],\n",
              "         [3, 4, 5],\n",
              "         [6, 7, 8]]])"
            ]
          },
          "metadata": {},
          "execution_count": 14
        }
      ],
      "source": [
        "TENSOR"
      ]
    },
    {
      "cell_type": "code",
      "execution_count": 15,
      "metadata": {
        "colab": {
          "base_uri": "https://localhost:8080/"
        },
        "id": "wuOA4OO_-f2m",
        "outputId": "e648e41a-2656-474e-d7f1-2b6c95736f86"
      },
      "outputs": [
        {
          "output_type": "execute_result",
          "data": {
            "text/plain": [
              "3"
            ]
          },
          "metadata": {},
          "execution_count": 15
        }
      ],
      "source": [
        "TENSOR.ndim"
      ]
    },
    {
      "cell_type": "markdown",
      "metadata": {
        "id": "S4BhkzHO-nEz"
      },
      "source": [
        "#random tensors"
      ]
    },
    {
      "cell_type": "code",
      "execution_count": 16,
      "metadata": {
        "id": "Afcb-xYRbIs3"
      },
      "outputs": [],
      "source": [
        "random_tensor = torch.rand(1000,100)"
      ]
    },
    {
      "cell_type": "code",
      "execution_count": 17,
      "metadata": {
        "colab": {
          "base_uri": "https://localhost:8080/"
        },
        "id": "G44BiQKRby5E",
        "outputId": "67b663f4-12ba-4a2e-91a4-20cf5aba4bfc"
      },
      "outputs": [
        {
          "output_type": "execute_result",
          "data": {
            "text/plain": [
              "tensor([[0.6649, 0.7459, 0.9322,  ..., 0.8324, 0.1975, 0.7547],\n",
              "        [0.5481, 0.3495, 0.4232,  ..., 0.4436, 0.3195, 0.7089],\n",
              "        [0.9399, 0.7508, 0.8662,  ..., 0.1770, 0.2433, 0.3570],\n",
              "        ...,\n",
              "        [0.2744, 0.0375, 0.7329,  ..., 0.6339, 0.1320, 0.8147],\n",
              "        [0.7923, 0.0570, 0.0577,  ..., 0.0532, 0.1241, 0.9391],\n",
              "        [0.0305, 0.8221, 0.0674,  ..., 0.8913, 0.8547, 0.8565]])"
            ]
          },
          "metadata": {},
          "execution_count": 17
        }
      ],
      "source": [
        "random_tensor"
      ]
    },
    {
      "cell_type": "markdown",
      "metadata": {
        "id": "zt8MTHC2b6LZ"
      },
      "source": [
        " #creatingf random tensor with dimension of a image"
      ]
    },
    {
      "cell_type": "code",
      "execution_count": 18,
      "metadata": {
        "id": "zvjPttmosiuK"
      },
      "outputs": [],
      "source": [
        "random_image_size_tensor = torch.rand(size = (224,224,3))"
      ]
    },
    {
      "cell_type": "code",
      "execution_count": 19,
      "metadata": {
        "colab": {
          "base_uri": "https://localhost:8080/"
        },
        "id": "RViF0UfEsys4",
        "outputId": "b8303cff-486b-47ae-c23b-f4516d27106d"
      },
      "outputs": [
        {
          "output_type": "execute_result",
          "data": {
            "text/plain": [
              "tensor([[[0.9032, 0.0316, 0.7008],\n",
              "         [0.6766, 0.6196, 0.7259],\n",
              "         [0.4619, 0.7212, 0.0632],\n",
              "         ...,\n",
              "         [0.5390, 0.4456, 0.9993],\n",
              "         [0.2702, 0.1068, 0.4932],\n",
              "         [0.2689, 0.6942, 0.8170]],\n",
              "\n",
              "        [[0.5250, 0.1530, 0.0088],\n",
              "         [0.0275, 0.5148, 0.5717],\n",
              "         [0.0881, 0.8978, 0.6999],\n",
              "         ...,\n",
              "         [0.1699, 0.5690, 0.8460],\n",
              "         [0.2706, 0.1723, 0.9385],\n",
              "         [0.2505, 0.5304, 0.7765]],\n",
              "\n",
              "        [[0.3730, 0.1593, 0.8091],\n",
              "         [0.3421, 0.5068, 0.4812],\n",
              "         [0.0018, 0.5772, 0.8935],\n",
              "         ...,\n",
              "         [0.1305, 0.2262, 0.5602],\n",
              "         [0.3762, 0.5599, 0.5320],\n",
              "         [0.8787, 0.9479, 0.1458]],\n",
              "\n",
              "        ...,\n",
              "\n",
              "        [[0.2487, 0.5214, 0.8797],\n",
              "         [0.3682, 0.3397, 0.0201],\n",
              "         [0.9996, 0.9913, 0.6699],\n",
              "         ...,\n",
              "         [0.7943, 0.4099, 0.6260],\n",
              "         [0.4173, 0.5090, 0.5353],\n",
              "         [0.9211, 0.0141, 0.0231]],\n",
              "\n",
              "        [[0.1677, 0.2550, 0.2176],\n",
              "         [0.2521, 0.4592, 0.5338],\n",
              "         [0.6258, 0.3870, 0.4434],\n",
              "         ...,\n",
              "         [0.0789, 0.6176, 0.1882],\n",
              "         [0.8370, 0.6208, 0.2955],\n",
              "         [0.0851, 0.6386, 0.5544]],\n",
              "\n",
              "        [[0.4495, 0.2286, 0.9530],\n",
              "         [0.9141, 0.0387, 0.8715],\n",
              "         [0.3257, 0.2868, 0.3751],\n",
              "         ...,\n",
              "         [0.2787, 0.3386, 0.7441],\n",
              "         [0.8197, 0.5712, 0.5665],\n",
              "         [0.0626, 0.4700, 0.0330]]])"
            ]
          },
          "metadata": {},
          "execution_count": 19
        }
      ],
      "source": [
        "random_image_size_tensor"
      ]
    },
    {
      "cell_type": "code",
      "execution_count": 20,
      "metadata": {
        "colab": {
          "base_uri": "https://localhost:8080/"
        },
        "id": "-effQ1Dms2PU",
        "outputId": "938ed935-5be4-40bb-ef18-cafed15c101a"
      },
      "outputs": [
        {
          "output_type": "execute_result",
          "data": {
            "text/plain": [
              "3"
            ]
          },
          "metadata": {},
          "execution_count": 20
        }
      ],
      "source": [
        "random_image_size_tensor.ndim"
      ]
    },
    {
      "cell_type": "code",
      "execution_count": 21,
      "metadata": {
        "colab": {
          "base_uri": "https://localhost:8080/"
        },
        "id": "ZC9HiwECs4aw",
        "outputId": "a7f94ac3-ad67-469d-cd92-98bbbabbdec4"
      },
      "outputs": [
        {
          "output_type": "execute_result",
          "data": {
            "text/plain": [
              "<function Tensor.size>"
            ]
          },
          "metadata": {},
          "execution_count": 21
        }
      ],
      "source": [
        "random_image_size_tensor.size"
      ]
    },
    {
      "cell_type": "code",
      "execution_count": 22,
      "metadata": {
        "colab": {
          "base_uri": "https://localhost:8080/"
        },
        "id": "-omtS1wMtGJB",
        "outputId": "1efceca4-0239-4480-9eef-127bd1b178c9"
      },
      "outputs": [
        {
          "output_type": "execute_result",
          "data": {
            "text/plain": [
              "torch.int64"
            ]
          },
          "metadata": {},
          "execution_count": 22
        }
      ],
      "source": [
        "TENSOR.dtype"
      ]
    },
    {
      "cell_type": "markdown",
      "source": [
        "## reshaping stacking squeezing and unsquezzing"
      ],
      "metadata": {
        "id": "52bpPjVrvJso"
      }
    },
    {
      "cell_type": "markdown",
      "source": [
        "#reshape - reshape tensor to a defined shape\n",
        "#view- return a view of an input tensor of certain"
      ],
      "metadata": {
        "id": "OzuE0jXX6Zz-"
      }
    },
    {
      "cell_type": "code",
      "source": [
        "import torch\n",
        "x = torch.arange(1.,10.)\n",
        "x , x.shape"
      ],
      "metadata": {
        "colab": {
          "base_uri": "https://localhost:8080/"
        },
        "id": "bDW_B0k-7Pdv",
        "outputId": "b669e556-5c4c-4613-826c-aabfe12eb08c"
      },
      "execution_count": 23,
      "outputs": [
        {
          "output_type": "execute_result",
          "data": {
            "text/plain": [
              "(tensor([1., 2., 3., 4., 5., 6., 7., 8., 9.]), torch.Size([9]))"
            ]
          },
          "metadata": {},
          "execution_count": 23
        }
      ]
    },
    {
      "cell_type": "code",
      "source": [
        "x_reshaped = x.reshape(3,3)\n",
        "x_reshaped"
      ],
      "metadata": {
        "colab": {
          "base_uri": "https://localhost:8080/"
        },
        "id": "PGw8hNRxDevd",
        "outputId": "0120c00f-0a9f-4ba3-87ff-420e90a43613"
      },
      "execution_count": 24,
      "outputs": [
        {
          "output_type": "execute_result",
          "data": {
            "text/plain": [
              "tensor([[1., 2., 3.],\n",
              "        [4., 5., 6.],\n",
              "        [7., 8., 9.]])"
            ]
          },
          "metadata": {},
          "execution_count": 24
        }
      ]
    },
    {
      "cell_type": "code",
      "source": [
        "x_stacked = torch.stack([x,x,x,x],dim = -1)\n",
        "x_stacked"
      ],
      "metadata": {
        "id": "Uyt2l-rpEBwh",
        "colab": {
          "base_uri": "https://localhost:8080/"
        },
        "outputId": "488d396e-d52e-4499-adf7-2b68bfd94e31"
      },
      "execution_count": 25,
      "outputs": [
        {
          "output_type": "execute_result",
          "data": {
            "text/plain": [
              "tensor([[1., 1., 1., 1.],\n",
              "        [2., 2., 2., 2.],\n",
              "        [3., 3., 3., 3.],\n",
              "        [4., 4., 4., 4.],\n",
              "        [5., 5., 5., 5.],\n",
              "        [6., 6., 6., 6.],\n",
              "        [7., 7., 7., 7.],\n",
              "        [8., 8., 8., 8.],\n",
              "        [9., 9., 9., 9.]])"
            ]
          },
          "metadata": {},
          "execution_count": 25
        }
      ]
    },
    {
      "cell_type": "code",
      "source": [
        "x_reshaped.shape"
      ],
      "metadata": {
        "id": "9mfqwJX9EBvV",
        "colab": {
          "base_uri": "https://localhost:8080/"
        },
        "outputId": "d1e946a3-bde2-4d2f-96bb-19a6e96daecf"
      },
      "execution_count": 26,
      "outputs": [
        {
          "output_type": "execute_result",
          "data": {
            "text/plain": [
              "torch.Size([3, 3])"
            ]
          },
          "metadata": {},
          "execution_count": 26
        }
      ]
    },
    {
      "cell_type": "code",
      "source": [
        "x_reshaped.squeeze().shape"
      ],
      "metadata": {
        "colab": {
          "base_uri": "https://localhost:8080/"
        },
        "id": "fiMzF8Lvehmp",
        "outputId": "8f4d77ce-f342-40af-da82-b53c2da143d7"
      },
      "execution_count": 27,
      "outputs": [
        {
          "output_type": "execute_result",
          "data": {
            "text/plain": [
              "torch.Size([3, 3])"
            ]
          },
          "metadata": {},
          "execution_count": 27
        }
      ]
    },
    {
      "cell_type": "code",
      "source": [
        "x_reshaped.squeeze()"
      ],
      "metadata": {
        "colab": {
          "base_uri": "https://localhost:8080/"
        },
        "id": "VoWgItOserep",
        "outputId": "d38f95e2-627a-4cd5-a6d9-0c699fe0586c"
      },
      "execution_count": 28,
      "outputs": [
        {
          "output_type": "execute_result",
          "data": {
            "text/plain": [
              "tensor([[1., 2., 3.],\n",
              "        [4., 5., 6.],\n",
              "        [7., 8., 9.]])"
            ]
          },
          "metadata": {},
          "execution_count": 28
        }
      ]
    },
    {
      "cell_type": "code",
      "source": [
        "x_reshaped=x_reshaped.reshape([1,9])"
      ],
      "metadata": {
        "id": "71zQ7Yk8eyOx"
      },
      "execution_count": 29,
      "outputs": []
    },
    {
      "cell_type": "code",
      "source": [
        "x_reshaped.squeeze()"
      ],
      "metadata": {
        "colab": {
          "base_uri": "https://localhost:8080/"
        },
        "outputId": "39c58076-3dd0-4948-e965-444d2077a47f",
        "id": "x2lThaRge7yf"
      },
      "execution_count": 30,
      "outputs": [
        {
          "output_type": "execute_result",
          "data": {
            "text/plain": [
              "tensor([1., 2., 3., 4., 5., 6., 7., 8., 9.])"
            ]
          },
          "metadata": {},
          "execution_count": 30
        }
      ]
    },
    {
      "cell_type": "code",
      "source": [
        "x_orignal = torch.rand(size=(224,224,3))"
      ],
      "metadata": {
        "id": "xV2qJ9kQgRJ_"
      },
      "execution_count": 31,
      "outputs": []
    },
    {
      "cell_type": "code",
      "source": [
        "x_permuted = x_orignal.permute(2,0,1)"
      ],
      "metadata": {
        "id": "VdwyiNDogZhF"
      },
      "execution_count": 32,
      "outputs": []
    },
    {
      "cell_type": "code",
      "source": [
        "x_permuted"
      ],
      "metadata": {
        "colab": {
          "base_uri": "https://localhost:8080/"
        },
        "id": "jfKQ2lTXgv7n",
        "outputId": "95119dfd-6d67-410b-cfda-ebbd85e00d95"
      },
      "execution_count": 33,
      "outputs": [
        {
          "output_type": "execute_result",
          "data": {
            "text/plain": [
              "tensor([[[0.3392, 0.4262, 0.1968,  ..., 0.0744, 0.7941, 0.2450],\n",
              "         [0.0302, 0.1584, 0.4003,  ..., 0.1211, 0.1408, 0.8249],\n",
              "         [0.7869, 0.5595, 0.6311,  ..., 0.3091, 0.1317, 0.8475],\n",
              "         ...,\n",
              "         [0.1149, 0.5230, 0.8867,  ..., 0.6836, 0.0168, 0.9309],\n",
              "         [0.2232, 0.1432, 0.1761,  ..., 0.3700, 0.6794, 0.1029],\n",
              "         [0.8959, 0.0360, 0.7144,  ..., 0.4624, 0.3442, 0.3368]],\n",
              "\n",
              "        [[0.9844, 0.4644, 0.6901,  ..., 0.3853, 0.5270, 0.4402],\n",
              "         [0.9163, 0.5050, 0.9394,  ..., 0.1135, 0.3827, 0.2423],\n",
              "         [0.7770, 0.8532, 0.2768,  ..., 0.2727, 0.0491, 0.4225],\n",
              "         ...,\n",
              "         [0.0626, 0.5724, 0.9486,  ..., 0.3787, 0.5329, 0.3546],\n",
              "         [0.6624, 0.5890, 0.1190,  ..., 0.7703, 0.0408, 0.3366],\n",
              "         [0.9083, 0.4928, 0.0900,  ..., 0.7664, 0.4700, 0.3777]],\n",
              "\n",
              "        [[0.1713, 0.3751, 0.0886,  ..., 0.2205, 0.3731, 0.5833],\n",
              "         [0.3062, 0.4385, 0.6286,  ..., 0.9979, 0.0640, 0.0238],\n",
              "         [0.0435, 0.7849, 0.4533,  ..., 0.4955, 0.1692, 0.9073],\n",
              "         ...,\n",
              "         [0.6777, 0.9636, 0.6538,  ..., 0.1014, 0.1048, 0.7740],\n",
              "         [0.6793, 0.2782, 0.5098,  ..., 0.0803, 0.5213, 0.8585],\n",
              "         [0.4274, 0.3075, 0.6235,  ..., 0.1068, 0.9573, 0.1424]]])"
            ]
          },
          "metadata": {},
          "execution_count": 33
        }
      ]
    },
    {
      "cell_type": "markdown",
      "source": [
        "##INDEXING"
      ],
      "metadata": {
        "id": "WSOABnjahO79"
      }
    },
    {
      "cell_type": "code",
      "source": [
        "x = torch.arange(1,10).reshape(1,3,3)\n",
        "x , x.shape"
      ],
      "metadata": {
        "colab": {
          "base_uri": "https://localhost:8080/"
        },
        "id": "JTSi2-OFh5uQ",
        "outputId": "c11f9a89-dea2-4244-bac3-51e9ef89e329"
      },
      "execution_count": 34,
      "outputs": [
        {
          "output_type": "execute_result",
          "data": {
            "text/plain": [
              "(tensor([[[1, 2, 3],\n",
              "          [4, 5, 6],\n",
              "          [7, 8, 9]]]),\n",
              " torch.Size([1, 3, 3]))"
            ]
          },
          "metadata": {},
          "execution_count": 34
        }
      ]
    },
    {
      "cell_type": "code",
      "source": [
        "x[0,1]"
      ],
      "metadata": {
        "colab": {
          "base_uri": "https://localhost:8080/"
        },
        "id": "rL_Xw6C-iJtg",
        "outputId": "d7bfb5ed-d1f6-4db2-82bb-1a23956d9880"
      },
      "execution_count": 35,
      "outputs": [
        {
          "output_type": "execute_result",
          "data": {
            "text/plain": [
              "tensor([4, 5, 6])"
            ]
          },
          "metadata": {},
          "execution_count": 35
        }
      ]
    },
    {
      "cell_type": "markdown",
      "source": [
        "#lets index on the most inner bracket"
      ],
      "metadata": {
        "id": "1k4hOnt5iVWC"
      }
    },
    {
      "cell_type": "code",
      "source": [
        "x[:,-1]"
      ],
      "metadata": {
        "colab": {
          "base_uri": "https://localhost:8080/"
        },
        "id": "4Y7B_8v0iaJN",
        "outputId": "b8206e8f-8b25-4f6c-be12-5645c9a23dd3"
      },
      "execution_count": 36,
      "outputs": [
        {
          "output_type": "execute_result",
          "data": {
            "text/plain": [
              "tensor([[7, 8, 9]])"
            ]
          },
          "metadata": {},
          "execution_count": 36
        }
      ]
    },
    {
      "cell_type": "code",
      "source": [
        "torch.rand(3,3)"
      ],
      "metadata": {
        "colab": {
          "base_uri": "https://localhost:8080/"
        },
        "id": "8vjZKzpdij1i",
        "outputId": "f19ad6c2-26a0-41b7-a230-b91b6b5b94ab"
      },
      "execution_count": 37,
      "outputs": [
        {
          "output_type": "execute_result",
          "data": {
            "text/plain": [
              "tensor([[0.7584, 0.2229, 0.4029],\n",
              "        [0.2602, 0.7741, 0.1318],\n",
              "        [0.4463, 0.3269, 0.2688]])"
            ]
          },
          "metadata": {},
          "execution_count": 37
        }
      ]
    },
    {
      "cell_type": "code",
      "source": [
        "random_tensor_A = torch.rand(3,3)\n",
        "random_tensor_B = torch.rand(3,3)"
      ],
      "metadata": {
        "id": "CqHgk3fye27p"
      },
      "execution_count": 38,
      "outputs": []
    },
    {
      "cell_type": "code",
      "source": [
        "random_tensor_A == random_tensor_B"
      ],
      "metadata": {
        "colab": {
          "base_uri": "https://localhost:8080/"
        },
        "id": "m8zF6cl_fZTj",
        "outputId": "74b35268-c968-4e58-fcfe-dd8b0a0dd478"
      },
      "execution_count": 39,
      "outputs": [
        {
          "output_type": "execute_result",
          "data": {
            "text/plain": [
              "tensor([[False, False, False],\n",
              "        [False, False, False],\n",
              "        [False, False, False]])"
            ]
          },
          "metadata": {},
          "execution_count": 39
        }
      ]
    },
    {
      "cell_type": "code",
      "source": [
        "random_seed = 0\n",
        "torch.manual_seed(random_seed)\n"
      ],
      "metadata": {
        "colab": {
          "base_uri": "https://localhost:8080/"
        },
        "id": "xrIakpo3gIIK",
        "outputId": "3da72080-6679-4238-9297-d58f3b891af5"
      },
      "execution_count": 40,
      "outputs": [
        {
          "output_type": "execute_result",
          "data": {
            "text/plain": [
              "<torch._C.Generator at 0x782c51230190>"
            ]
          },
          "metadata": {},
          "execution_count": 40
        }
      ]
    },
    {
      "cell_type": "code",
      "source": [
        "device = \"cuda\" if torch.cuda.is_available() else \"cpu\""
      ],
      "metadata": {
        "id": "lulvDT3SgoKG"
      },
      "execution_count": 41,
      "outputs": []
    },
    {
      "cell_type": "code",
      "source": [
        "device"
      ],
      "metadata": {
        "colab": {
          "base_uri": "https://localhost:8080/",
          "height": 35
        },
        "id": "y5btWdVwjpCv",
        "outputId": "9d2ab5d4-60b5-4906-87fb-e745c2f8011f"
      },
      "execution_count": 42,
      "outputs": [
        {
          "output_type": "execute_result",
          "data": {
            "text/plain": [
              "'cuda'"
            ],
            "application/vnd.google.colaboratory.intrinsic+json": {
              "type": "string"
            }
          },
          "metadata": {},
          "execution_count": 42
        }
      ]
    },
    {
      "cell_type": "code",
      "source": [
        "akshit = torch.rand(7,7)\n",
        "akshit"
      ],
      "metadata": {
        "colab": {
          "base_uri": "https://localhost:8080/"
        },
        "id": "Nqz3j4j6jrIm",
        "outputId": "f2ad3c37-dc01-4ff9-a471-66a684185445"
      },
      "execution_count": 43,
      "outputs": [
        {
          "output_type": "execute_result",
          "data": {
            "text/plain": [
              "tensor([[0.4963, 0.7682, 0.0885, 0.1320, 0.3074, 0.6341, 0.4901],\n",
              "        [0.8964, 0.4556, 0.6323, 0.3489, 0.4017, 0.0223, 0.1689],\n",
              "        [0.2939, 0.5185, 0.6977, 0.8000, 0.1610, 0.2823, 0.6816],\n",
              "        [0.9152, 0.3971, 0.8742, 0.4194, 0.5529, 0.9527, 0.0362],\n",
              "        [0.1852, 0.3734, 0.3051, 0.9320, 0.1759, 0.2698, 0.1507],\n",
              "        [0.0317, 0.2081, 0.9298, 0.7231, 0.7423, 0.5263, 0.2437],\n",
              "        [0.5846, 0.0332, 0.1387, 0.2422, 0.8155, 0.7932, 0.2783]])"
            ]
          },
          "metadata": {},
          "execution_count": 43
        }
      ]
    },
    {
      "cell_type": "code",
      "source": [
        "goyal = torch.rand(1,7)"
      ],
      "metadata": {
        "id": "7-bVtULO4Os8"
      },
      "execution_count": 44,
      "outputs": []
    },
    {
      "cell_type": "code",
      "source": [
        "akshit_goyal = torch.mm(akshit,torch.transpose(goyal, 0, 1))"
      ],
      "metadata": {
        "id": "Oe7BOTxm4Z2N"
      },
      "execution_count": 45,
      "outputs": []
    },
    {
      "cell_type": "code",
      "source": [
        "print(akshit_goyal)\n",
        "akshit_goyal.shape"
      ],
      "metadata": {
        "colab": {
          "base_uri": "https://localhost:8080/"
        },
        "id": "j6JfkgCW4ucb",
        "outputId": "d618c230-e46d-4b64-8b4e-a44624758a3d"
      },
      "execution_count": 46,
      "outputs": [
        {
          "output_type": "stream",
          "name": "stdout",
          "text": [
            "tensor([[1.8542],\n",
            "        [1.9611],\n",
            "        [2.2884],\n",
            "        [3.0481],\n",
            "        [1.7067],\n",
            "        [2.5290],\n",
            "        [1.7989]])\n"
          ]
        },
        {
          "output_type": "execute_result",
          "data": {
            "text/plain": [
              "torch.Size([7, 1])"
            ]
          },
          "metadata": {},
          "execution_count": 46
        }
      ]
    },
    {
      "cell_type": "code",
      "source": [
        " torch.cuda.manual_seed(1234)"
      ],
      "metadata": {
        "id": "onFleygx5bc6"
      },
      "execution_count": 47,
      "outputs": []
    },
    {
      "cell_type": "code",
      "source": [
        "akshit = torch.rand(2, 3)\n",
        "goyal = torch.rand(2, 3)"
      ],
      "metadata": {
        "id": "ABgJ88b35nOR"
      },
      "execution_count": 48,
      "outputs": []
    },
    {
      "cell_type": "code",
      "source": [
        "akshit.to(\"cuda:0\")\n",
        "goyal.to(\"cuda:0\")"
      ],
      "metadata": {
        "colab": {
          "base_uri": "https://localhost:8080/"
        },
        "id": "5hsmwMEi53XD",
        "outputId": "24cefb5d-c4cf-49f9-80c5-b7f9ce7f027e"
      },
      "execution_count": 50,
      "outputs": [
        {
          "output_type": "execute_result",
          "data": {
            "text/plain": [
              "tensor([[0.2038, 0.6511, 0.7745],\n",
              "        [0.4369, 0.5191, 0.6159]], device='cuda:0')"
            ]
          },
          "metadata": {},
          "execution_count": 50
        }
      ]
    },
    {
      "cell_type": "code",
      "source": [
        "akshit_goyal = torch.mm(akshit,torch.transpose(goyal, 0, 1))"
      ],
      "metadata": {
        "id": "WBpYXLwu6Ujy"
      },
      "execution_count": 51,
      "outputs": []
    },
    {
      "cell_type": "code",
      "source": [
        "akshit_goyal"
      ],
      "metadata": {
        "colab": {
          "base_uri": "https://localhost:8080/"
        },
        "id": "om6RCXmP6ZAz",
        "outputId": "0512b303-db8d-4888-bc21-e7402a0b7200"
      },
      "execution_count": 52,
      "outputs": [
        {
          "output_type": "execute_result",
          "data": {
            "text/plain": [
              "tensor([[0.3129, 0.4120],\n",
              "        [1.0651, 0.9143]])"
            ]
          },
          "metadata": {},
          "execution_count": 52
        }
      ]
    }
  ],
  "metadata": {
    "colab": {
      "provenance": [],
      "gpuType": "T4"
    },
    "kernelspec": {
      "display_name": "Python 3",
      "name": "python3"
    },
    "language_info": {
      "name": "python"
    },
    "accelerator": "GPU"
  },
  "nbformat": 4,
  "nbformat_minor": 0
}